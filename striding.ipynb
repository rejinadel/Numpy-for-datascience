{
  "nbformat": 4,
  "nbformat_minor": 0,
  "metadata": {
    "colab": {
      "provenance": [],
      "authorship_tag": "ABX9TyPvoXrB5hSZeCllU80RULLm",
      "include_colab_link": true
    },
    "kernelspec": {
      "name": "python3",
      "display_name": "Python 3"
    },
    "language_info": {
      "name": "python"
    }
  },
  "cells": [
    {
      "cell_type": "markdown",
      "metadata": {
        "id": "view-in-github",
        "colab_type": "text"
      },
      "source": [
        "<a href=\"https://colab.research.google.com/github/rejinadel/Numpy-for-datascience/blob/main/striding.ipynb\" target=\"_parent\"><img src=\"https://colab.research.google.com/assets/colab-badge.svg\" alt=\"Open In Colab\"/></a>"
      ]
    },
    {
      "cell_type": "code",
      "execution_count": null,
      "metadata": {
        "id": "LWlXANYCs9Ge"
      },
      "outputs": [],
      "source": []
    },
    {
      "cell_type": "markdown",
      "source": [
        "Negative indexing in python"
      ],
      "metadata": {
        "id": "O5Ajv-rXs_HA"
      }
    },
    {
      "cell_type": "code",
      "source": [
        "arr = [1,2,3]\n",
        "arr[-1]"
      ],
      "metadata": {
        "colab": {
          "base_uri": "https://localhost:8080/"
        },
        "id": "XdqlbMDDtCG_",
        "outputId": "d202dd68-edfd-4441-9187-eddea17fc7e6"
      },
      "execution_count": 2,
      "outputs": [
        {
          "output_type": "execute_result",
          "data": {
            "text/plain": [
              "3"
            ]
          },
          "metadata": {},
          "execution_count": 2
        }
      ]
    },
    {
      "cell_type": "markdown",
      "source": [
        "numpy neagative indexing"
      ],
      "metadata": {
        "id": "e_ymIjRftSSx"
      }
    },
    {
      "cell_type": "code",
      "source": [
        "arr = [1,2,3]\n",
        "import numpy as np\n",
        "array = np.array(arr)\n",
        "array\n",
        "array[-1]"
      ],
      "metadata": {
        "colab": {
          "base_uri": "https://localhost:8080/"
        },
        "id": "HBMLaNi8tVlA",
        "outputId": "72f54818-a5a6-4fb3-caa1-d9a3b43c698b"
      },
      "execution_count": 5,
      "outputs": [
        {
          "output_type": "execute_result",
          "data": {
            "text/plain": [
              "3"
            ]
          },
          "metadata": {},
          "execution_count": 5
        }
      ]
    },
    {
      "cell_type": "markdown",
      "source": [
        "Negative indexing in 2D array"
      ],
      "metadata": {
        "id": "R41hjHkGtuFY"
      }
    },
    {
      "cell_type": "code",
      "source": [
        "import numpy as np\n",
        "arr = np.array([[1,2,3],[2,3,4]])\n",
        "arr\n",
        "arr[-2]\n",
        "arr[-2,-1]"
      ],
      "metadata": {
        "colab": {
          "base_uri": "https://localhost:8080/"
        },
        "id": "AUIQQklCt8fa",
        "outputId": "4b4557f8-064a-4b67-9bb9-63bc60b59549"
      },
      "execution_count": 13,
      "outputs": [
        {
          "output_type": "execute_result",
          "data": {
            "text/plain": [
              "3"
            ]
          },
          "metadata": {},
          "execution_count": 13
        }
      ]
    },
    {
      "cell_type": "markdown",
      "source": [
        "negeative indexing arrays in square box"
      ],
      "metadata": {
        "id": "09-O8323vVHl"
      }
    },
    {
      "cell_type": "code",
      "source": [
        "import numpy as np\n",
        "arr = np.array([[1,2,3,6],[4,5,6,4],[7,8,9,3],[2,1,9,5]])\n",
        "arr\n",
        "arr[-3:-1,-2:-1]"
      ],
      "metadata": {
        "colab": {
          "base_uri": "https://localhost:8080/"
        },
        "id": "Pt1GV-IPvcQq",
        "outputId": "2ea90e7f-d712-4f15-8eb5-19bed92d3819"
      },
      "execution_count": 16,
      "outputs": [
        {
          "output_type": "execute_result",
          "data": {
            "text/plain": [
              "array([[6],\n",
              "       [9]])"
            ]
          },
          "metadata": {},
          "execution_count": 16
        }
      ]
    },
    {
      "cell_type": "markdown",
      "source": [
        "**Striding**"
      ],
      "metadata": {
        "id": "e9FNOO90wrIi"
      }
    },
    {
      "cell_type": "code",
      "source": [
        "import numpy as np\n",
        "arr = np.array([[1,2,3,6],[4,5,6,4],[7,8,9,3],[2,1,9,5]])\n",
        "arr\n",
        "arr[0:3:2]"
      ],
      "metadata": {
        "colab": {
          "base_uri": "https://localhost:8080/"
        },
        "id": "BYuzB-Vywuvh",
        "outputId": "5edda0b6-f123-428c-e3e3-d11f8d47fab3"
      },
      "execution_count": 19,
      "outputs": [
        {
          "output_type": "execute_result",
          "data": {
            "text/plain": [
              "array([[1, 2, 3, 6],\n",
              "       [7, 8, 9, 3]])"
            ]
          },
          "metadata": {},
          "execution_count": 19
        }
      ]
    }
  ]
}