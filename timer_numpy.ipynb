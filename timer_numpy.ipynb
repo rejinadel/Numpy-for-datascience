{
  "nbformat": 4,
  "nbformat_minor": 0,
  "metadata": {
    "colab": {
      "provenance": [],
      "authorship_tag": "ABX9TyPO2B23P0/IAXxXae9mN6U7",
      "include_colab_link": true
    },
    "kernelspec": {
      "name": "python3",
      "display_name": "Python 3"
    },
    "language_info": {
      "name": "python"
    }
  },
  "cells": [
    {
      "cell_type": "markdown",
      "metadata": {
        "id": "view-in-github",
        "colab_type": "text"
      },
      "source": [
        "<a href=\"https://colab.research.google.com/github/rejinadel/Numpy-for-datascience/blob/main/timer_numpy.ipynb\" target=\"_parent\"><img src=\"https://colab.research.google.com/assets/colab-badge.svg\" alt=\"Open In Colab\"/></a>"
      ]
    },
    {
      "cell_type": "code",
      "execution_count": 8,
      "metadata": {
        "colab": {
          "base_uri": "https://localhost:8080/"
        },
        "id": "EqFBnvSrGaNE",
        "outputId": "117e498f-a161-413e-b66e-1acc248f887f"
      },
      "outputs": [
        {
          "output_type": "stream",
          "name": "stdout",
          "text": [
            "Pure python version: 19.74389189500016\n",
            "Numpy version: 0.10796127800040267\n"
          ]
        }
      ],
      "source": [
        "# Create two python List say 'List_x' and 'List_your'\n",
        "X_list = list(range(100000))\n",
        "Y_list = list(range(100000))\n",
        "# Import numpy Library\n",
        "import numpy as np\n",
        "# Create two numpy array (say 'X' end 'Y') using above two list\n",
        "X = np.array(X_list)\n",
        "Y = np.array(Y_list)\n",
        "# Define a function to calculate sum\n",
        "# using python Lists X_list, Y_list)\n",
        "def pure_python_version():\n",
        "    Z = []\n",
        "    for i in range(len(X_list)):\n",
        "        Z.append(X_list[i] + Y_list[i])\n",
        "# Define a function to calculate sum\n",
        "# using numpy arrays (X, Y)\n",
        "def numpy_version():\n",
        "# In numpy we can directly perform\n",
        "# sum element-wise as\n",
        "    Z = X + Y \n",
        "# Import Timer class from timeit Library\n",
        "from timeit import Timer\n",
        "timer_obj1 = Timer(\"pure_python_version()\", \n",
        "                   \"from __main__ import pure_python_version\")\n",
        "timer_obj2 = Timer(\"numpy_version()\", \n",
        "                   \"from __main__ import numpy_version\")\n",
        "\n",
        "print(\"Pure python version:\",timer_obj1.timeit(1000))\n",
        "print(\"Numpy version:\",timer_obj2.timeit(1000))\n",
        "\n",
        "\n"
      ]
    }
  ]
}