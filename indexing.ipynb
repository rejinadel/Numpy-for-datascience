{
  "nbformat": 4,
  "nbformat_minor": 0,
  "metadata": {
    "colab": {
      "provenance": [],
      "authorship_tag": "ABX9TyOUPjuYvJ7Vc7mX+KENV99n",
      "include_colab_link": true
    },
    "kernelspec": {
      "name": "python3",
      "display_name": "Python 3"
    },
    "language_info": {
      "name": "python"
    }
  },
  "cells": [
    {
      "cell_type": "markdown",
      "metadata": {
        "id": "view-in-github",
        "colab_type": "text"
      },
      "source": [
        "<a href=\"https://colab.research.google.com/github/rejinadel/Numpy-for-datascience/blob/main/indexing.ipynb\" target=\"_parent\"><img src=\"https://colab.research.google.com/assets/colab-badge.svg\" alt=\"Open In Colab\"/></a>"
      ]
    },
    {
      "cell_type": "code",
      "execution_count": 2,
      "metadata": {
        "colab": {
          "base_uri": "https://localhost:8080/"
        },
        "id": "jNjgW0nerAbp",
        "outputId": "791a0a1e-f8ad-4662-cf9f-3dc9367e02b7"
      },
      "outputs": [
        {
          "output_type": "execute_result",
          "data": {
            "text/plain": [
              "3"
            ]
          },
          "metadata": {},
          "execution_count": 2
        }
      ],
      "source": [
        "import numpy as np\n",
        "arr = np.array([1,2,3,4,5,6])\n",
        "arr\n",
        "arr[2]"
      ]
    },
    {
      "cell_type": "markdown",
      "source": [
        "Indexing nested numpy array"
      ],
      "metadata": {
        "id": "Ov3IcNb3rXXV"
      }
    }
  ]
}